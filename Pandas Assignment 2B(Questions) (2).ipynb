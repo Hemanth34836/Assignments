{
 "cells": [
  {
   "cell_type": "markdown",
   "id": "42d090d6",
   "metadata": {
    "id": "42d090d6"
   },
   "source": [
    "# Pandas Assignmenet 3(B)"
   ]
  },
  {
   "cell_type": "markdown",
   "id": "709efe8c",
   "metadata": {
    "id": "709efe8c"
   },
   "source": [
    "# Introduction:\n",
    "The data have been modified to contain some missing values, identified by NaN.\n",
    "Using pandas should make this exercise easier, in particular for the bonus question.\n",
    "\n",
    "You should be able to perform all of these operations without using a for loop or other looping construct.\n",
    "\n",
    "1. The data in 'wind.data' has the following format:"
   ]
  },
  {
   "cell_type": "code",
   "execution_count": 3,
   "id": "aae263ec",
   "metadata": {
    "id": "aae263ec"
   },
   "outputs": [
    {
     "data": {
      "text/plain": [
       "'\\nYr Mo Dy   RPT   VAL   ROS   KIL   SHA   BIR   DUB   CLA   MUL   CLO   BEL   MAL\\n61  1  1 15.04 14.96 13.17  9.29   NaN  9.87 13.67 10.25 10.83 12.58 18.50 15.04\\n61  1  2 14.71   NaN 10.83  6.50 12.62  7.67 11.50 10.04  9.79  9.67 17.54 13.83\\n61  1  3 18.50 16.88 12.33 10.13 11.17  6.17 11.25   NaN  8.50  7.67 12.75 12.71\\n'"
      ]
     },
     "execution_count": 3,
     "metadata": {},
     "output_type": "execute_result"
    }
   ],
   "source": [
    "\"\"\"\n",
    "Yr Mo Dy   RPT   VAL   ROS   KIL   SHA   BIR   DUB   CLA   MUL   CLO   BEL   MAL\n",
    "61  1  1 15.04 14.96 13.17  9.29   NaN  9.87 13.67 10.25 10.83 12.58 18.50 15.04\n",
    "61  1  2 14.71   NaN 10.83  6.50 12.62  7.67 11.50 10.04  9.79  9.67 17.54 13.83\n",
    "61  1  3 18.50 16.88 12.33 10.13 11.17  6.17 11.25   NaN  8.50  7.67 12.75 12.71\n",
    "\"\"\""
   ]
  },
  {
   "cell_type": "markdown",
   "id": "b2cd563a",
   "metadata": {
    "id": "b2cd563a"
   },
   "source": [
    "Each line corresponds to one day of data in the following format: year, month, day, average wind speed at each of the stations in the order given\n",
    "\n",
    "RPT, VAL, ROS, KIL, SHA, BIR, DUB, CLA, MUL, CLO, BEL, MAL"
   ]
  },
  {
   "cell_type": "markdown",
   "id": "8413b5d2",
   "metadata": {
    "id": "8413b5d2"
   },
   "source": [
    "### Step 1. Import the necessary libraries"
   ]
  },
  {
   "cell_type": "code",
   "execution_count": 6,
   "id": "ff8d6ff5",
   "metadata": {
    "id": "ff8d6ff5"
   },
   "outputs": [],
   "source": [
    "import pandas as pd\n",
    "import warnings\n",
    "warnings.filterwarnings('ignore')"
   ]
  },
  {
   "cell_type": "markdown",
   "id": "55a1f6b8",
   "metadata": {
    "id": "55a1f6b8"
   },
   "source": [
    "### Step 2. Import the dataset from this address"
   ]
  },
  {
   "cell_type": "code",
   "execution_count": 8,
   "id": "b2e848b5",
   "metadata": {
    "id": "b2e848b5"
   },
   "outputs": [
    {
     "data": {
      "text/html": [
       "<div>\n",
       "<style scoped>\n",
       "    .dataframe tbody tr th:only-of-type {\n",
       "        vertical-align: middle;\n",
       "    }\n",
       "\n",
       "    .dataframe tbody tr th {\n",
       "        vertical-align: top;\n",
       "    }\n",
       "\n",
       "    .dataframe thead th {\n",
       "        text-align: right;\n",
       "    }\n",
       "</style>\n",
       "<table border=\"1\" class=\"dataframe\">\n",
       "  <thead>\n",
       "    <tr style=\"text-align: right;\">\n",
       "      <th></th>\n",
       "      <th>Yr Mo Dy   RPT   VAL   ROS   KIL   SHA   BIR   DUB   CLA   MUL   CLO   BEL   MAL</th>\n",
       "    </tr>\n",
       "  </thead>\n",
       "  <tbody>\n",
       "    <tr>\n",
       "      <th>0</th>\n",
       "      <td>61  1  1 15.04 14.96 13.17  9.29   NaN  9.87 1...</td>\n",
       "    </tr>\n",
       "    <tr>\n",
       "      <th>1</th>\n",
       "      <td>61  1  2 14.71   NaN 10.83  6.50 12.62  7.67 1...</td>\n",
       "    </tr>\n",
       "    <tr>\n",
       "      <th>2</th>\n",
       "      <td>61  1  3 18.50 16.88 12.33 10.13 11.17  6.17 1...</td>\n",
       "    </tr>\n",
       "    <tr>\n",
       "      <th>3</th>\n",
       "      <td>61  1  4 10.58  6.63 11.75  4.58  4.54  2.88  ...</td>\n",
       "    </tr>\n",
       "    <tr>\n",
       "      <th>4</th>\n",
       "      <td>61  1  5 13.33 13.25 11.42  6.17 10.71  8.21 1...</td>\n",
       "    </tr>\n",
       "  </tbody>\n",
       "</table>\n",
       "</div>"
      ],
      "text/plain": [
       "  Yr Mo Dy   RPT   VAL   ROS   KIL   SHA   BIR   DUB   CLA   MUL   CLO   BEL   MAL\n",
       "0  61  1  1 15.04 14.96 13.17  9.29   NaN  9.87 1...                              \n",
       "1  61  1  2 14.71   NaN 10.83  6.50 12.62  7.67 1...                              \n",
       "2  61  1  3 18.50 16.88 12.33 10.13 11.17  6.17 1...                              \n",
       "3  61  1  4 10.58  6.63 11.75  4.58  4.54  2.88  ...                              \n",
       "4  61  1  5 13.33 13.25 11.42  6.17 10.71  8.21 1...                              "
      ]
     },
     "execution_count": 8,
     "metadata": {},
     "output_type": "execute_result"
    }
   ],
   "source": [
    "data=pd.read_csv('pandas assign 2(b).csv')\n",
    "data.head()"
   ]
  },
  {
   "cell_type": "markdown",
   "id": "dc7c5a1c",
   "metadata": {
    "id": "dc7c5a1c"
   },
   "source": [
    "### Step 3. Assign it to a variable called data and replace the first 3 columns by a proper datetime index."
   ]
  },
  {
   "cell_type": "code",
   "execution_count": 15,
   "id": "78fa3a26-132b-4cc9-b500-87009faf9460",
   "metadata": {},
   "outputs": [
    {
     "data": {
      "text/plain": [
       "Index(['Yr Mo Dy   RPT   VAL   ROS   KIL   SHA   BIR   DUB   CLA   MUL   CLO   BEL   MAL'], dtype='object')"
      ]
     },
     "execution_count": 15,
     "metadata": {},
     "output_type": "execute_result"
    }
   ],
   "source": [
    "data.columns"
   ]
  },
  {
   "cell_type": "code",
   "execution_count": 17,
   "id": "f2df24d0-8254-4017-bb5f-860887bb5992",
   "metadata": {},
   "outputs": [
    {
     "data": {
      "text/plain": [
       "(  Yr Mo Dy   RPT   VAL   ROS   KIL   SHA   BIR   DUB   CLA   MUL   CLO   BEL   MAL\n",
       " 0  61  1  1 15.04 14.96 13.17  9.29   NaN  9.87 1...                              \n",
       " 1  61  1  2 14.71   NaN 10.83  6.50 12.62  7.67 1...                              \n",
       " 2  61  1  3 18.50 16.88 12.33 10.13 11.17  6.17 1...                              \n",
       " 3  61  1  4 10.58  6.63 11.75  4.58  4.54  2.88  ...                              \n",
       " 4  61  1  5 13.33 13.25 11.42  6.17 10.71  8.21 1...                              ,\n",
       " Index(['Yr Mo Dy   RPT   VAL   ROS   KIL   SHA   BIR   DUB   CLA   MUL   CLO   BEL   MAL'], dtype='object'))"
      ]
     },
     "execution_count": 17,
     "metadata": {},
     "output_type": "execute_result"
    }
   ],
   "source": [
    "data=pd.read_csv('pandas assign 2(b).csv')\n",
    "data.head(),data.columns"
   ]
  },
  {
   "cell_type": "code",
   "execution_count": null,
   "id": "babdf88f-fbdb-4c33-8c1b-bab27881e798",
   "metadata": {},
   "outputs": [],
   "source": [
    "data['Date'] = pd.to_datetime(data[['Yr', 'Mo', 'Dy']].rename(columns={'Yr': 'year', 'Mo': 'month', 'Dy': 'day'}))"
   ]
  },
  {
   "cell_type": "markdown",
   "id": "bb07c3e9",
   "metadata": {
    "id": "bb07c3e9"
   },
   "source": [
    "### Step 4. Year 2061? Do we really have data from this year? Create a function to fix it and apply it."
   ]
  },
  {
   "cell_type": "code",
   "execution_count": null,
   "id": "9ff85065",
   "metadata": {
    "id": "9ff85065"
   },
   "outputs": [],
   "source": [
    "data['Yr'] = data['Yr'].apply(lambda x: x + 1900 if x < 100 else x)\n"
   ]
  },
  {
   "cell_type": "markdown",
   "id": "8446ceee",
   "metadata": {
    "id": "8446ceee"
   },
   "source": [
    "### Step 5. Set the right dates as the index. Pay attention at the data type, it should be datetime64[ns]."
   ]
  },
  {
   "cell_type": "code",
   "execution_count": null,
   "id": "b92048d0",
   "metadata": {
    "id": "b92048d0"
   },
   "outputs": [],
   "source": [
    "data.set_index('Date', inplace=True)\n",
    "data.drop(columns=['Yr', 'Mo', 'Dy'], inplace=True)\n",
    "data = data.astype('float64')"
   ]
  },
  {
   "cell_type": "markdown",
   "id": "8602c49c",
   "metadata": {
    "id": "8602c49c"
   },
   "source": [
    "### Step 6. Compute how many values are missing for each location over the entire record.  \n",
    "#### They should be ignored in all calculations below."
   ]
  },
  {
   "cell_type": "code",
   "execution_count": 28,
   "id": "34215b7c",
   "metadata": {
    "id": "34215b7c"
   },
   "outputs": [
    {
     "data": {
      "text/plain": [
       "Yr Mo Dy   RPT   VAL   ROS   KIL   SHA   BIR   DUB   CLA   MUL   CLO   BEL   MAL    0\n",
       "dtype: int64"
      ]
     },
     "execution_count": 28,
     "metadata": {},
     "output_type": "execute_result"
    }
   ],
   "source": [
    "missing_values_per_location = data.isna().sum()\n",
    "missing_values_per_location"
   ]
  },
  {
   "cell_type": "markdown",
   "id": "f6a3a6db",
   "metadata": {
    "id": "f6a3a6db"
   },
   "source": [
    "### Step 7. Compute how many non-missing values there are in total."
   ]
  },
  {
   "cell_type": "code",
   "execution_count": 32,
   "id": "a5fc3ac6",
   "metadata": {
    "id": "a5fc3ac6"
   },
   "outputs": [
    {
     "data": {
      "text/plain": [
       "6574"
      ]
     },
     "execution_count": 32,
     "metadata": {},
     "output_type": "execute_result"
    }
   ],
   "source": [
    "total_non_missing = data.count().sum()\n",
    "total_non_missing"
   ]
  },
  {
   "cell_type": "markdown",
   "id": "862069e1",
   "metadata": {
    "id": "862069e1"
   },
   "source": [
    "### Step 8. Calculate the mean windspeeds of the windspeeds over all the locations and all the times.\n",
    "#### A single number for the entire dataset."
   ]
  },
  {
   "cell_type": "code",
   "execution_count": null,
   "id": "f613a040",
   "metadata": {
    "id": "f613a040"
   },
   "outputs": [],
   "source": [
    "overall_mean_windspeed = data.mean().mean()"
   ]
  },
  {
   "cell_type": "markdown",
   "id": "1c02f9db",
   "metadata": {
    "id": "1c02f9db"
   },
   "source": [
    "### Step 9. Create a DataFrame called loc_stats and calculate the min, max and mean windspeeds and standard deviations of the windspeeds at each location over all the days\n",
    "\n",
    "#### A different set of numbers for each location."
   ]
  },
  {
   "cell_type": "code",
   "execution_count": 43,
   "id": "0279dcb6",
   "metadata": {
    "id": "0279dcb6"
   },
   "outputs": [
    {
     "data": {
      "text/html": [
       "<div>\n",
       "<style scoped>\n",
       "    .dataframe tbody tr th:only-of-type {\n",
       "        vertical-align: middle;\n",
       "    }\n",
       "\n",
       "    .dataframe tbody tr th {\n",
       "        vertical-align: top;\n",
       "    }\n",
       "\n",
       "    .dataframe thead th {\n",
       "        text-align: right;\n",
       "    }\n",
       "</style>\n",
       "<table border=\"1\" class=\"dataframe\">\n",
       "  <thead>\n",
       "    <tr style=\"text-align: right;\">\n",
       "      <th></th>\n",
       "      <th>Yr Mo Dy   RPT   VAL   ROS   KIL   SHA   BIR   DUB   CLA   MUL   CLO   BEL   MAL</th>\n",
       "    </tr>\n",
       "  </thead>\n",
       "  <tbody>\n",
       "    <tr>\n",
       "      <th>count</th>\n",
       "      <td>6574</td>\n",
       "    </tr>\n",
       "    <tr>\n",
       "      <th>unique</th>\n",
       "      <td>6574</td>\n",
       "    </tr>\n",
       "    <tr>\n",
       "      <th>top</th>\n",
       "      <td>61  1  1 15.04 14.96 13.17  9.29   NaN  9.87 1...</td>\n",
       "    </tr>\n",
       "    <tr>\n",
       "      <th>freq</th>\n",
       "      <td>1</td>\n",
       "    </tr>\n",
       "  </tbody>\n",
       "</table>\n",
       "</div>"
      ],
      "text/plain": [
       "       Yr Mo Dy   RPT   VAL   ROS   KIL   SHA   BIR   DUB   CLA   MUL   CLO   BEL   MAL\n",
       "count                                                6574                              \n",
       "unique                                               6574                              \n",
       "top     61  1  1 15.04 14.96 13.17  9.29   NaN  9.87 1...                              \n",
       "freq                                                    1                              "
      ]
     },
     "execution_count": 43,
     "metadata": {},
     "output_type": "execute_result"
    }
   ],
   "source": [
    "data.describe()"
   ]
  },
  {
   "cell_type": "code",
   "execution_count": null,
   "id": "541a5327-2306-4245-810f-7c5c29f713a4",
   "metadata": {},
   "outputs": [],
   "source": [
    "loc_stats = data.describe().T[['min', 'max', 'mean', 'std']]"
   ]
  },
  {
   "cell_type": "markdown",
   "id": "93d901e3",
   "metadata": {
    "id": "93d901e3"
   },
   "source": [
    "### Step 10. Create a DataFrame called day_stats and calculate the min, max and mean windspeed and standard deviations of the windspeeds across all the locations at each day.\n",
    "\n",
    "#### A different set of numbers for each day."
   ]
  },
  {
   "cell_type": "code",
   "execution_count": null,
   "id": "f709fa05",
   "metadata": {
    "id": "f709fa05"
   },
   "outputs": [],
   "source": [
    "day_stats = data.apply(['min', 'max', 'mean', 'std'], axis=1)"
   ]
  },
  {
   "cell_type": "markdown",
   "id": "a93f9ea9",
   "metadata": {
    "id": "a93f9ea9"
   },
   "source": [
    "### Step 11. Find the average windspeed in January for each location.  \n",
    "#### Treat January 1961 and January 1962 both as January."
   ]
  },
  {
   "cell_type": "code",
   "execution_count": null,
   "id": "45ecb64a",
   "metadata": {
    "id": "45ecb64a"
   },
   "outputs": [],
   "source": [
    "jan_avg_windspeed = data[data.index.month == 1].mean()"
   ]
  },
  {
   "cell_type": "markdown",
   "id": "fb7765ba",
   "metadata": {
    "id": "fb7765ba"
   },
   "source": [
    "### Step 12. Downsample the record to a yearly frequency for each location."
   ]
  },
  {
   "cell_type": "code",
   "execution_count": null,
   "id": "1b7839d8",
   "metadata": {
    "id": "1b7839d8"
   },
   "outputs": [],
   "source": [
    "yearly_windspeed = data.resample('Y').mean()"
   ]
  },
  {
   "cell_type": "markdown",
   "id": "a1884d1f",
   "metadata": {
    "id": "a1884d1f"
   },
   "source": [
    "### Step 13. Downsample the record to a monthly frequency for each location."
   ]
  },
  {
   "cell_type": "code",
   "execution_count": null,
   "id": "a96c25c5",
   "metadata": {
    "id": "a96c25c5"
   },
   "outputs": [],
   "source": [
    "monthly_windspeed = df.resample('M').mean()"
   ]
  },
  {
   "cell_type": "markdown",
   "id": "075efe35",
   "metadata": {
    "id": "075efe35"
   },
   "source": [
    "### Step 14. Downsample the record to a weekly frequency for each location."
   ]
  },
  {
   "cell_type": "code",
   "execution_count": null,
   "id": "47c416b9",
   "metadata": {
    "id": "47c416b9"
   },
   "outputs": [],
   "source": [
    "weekly_windspeed = df.resample('W').mean()"
   ]
  },
  {
   "cell_type": "markdown",
   "id": "63d73909",
   "metadata": {
    "id": "63d73909"
   },
   "source": [
    "### Step 15. Calculate the min, max and mean windspeeds and standard deviations of the windspeeds across all locations for each week (assume that the first week starts on January 2 1961) for the first 52 weeks."
   ]
  },
  {
   "cell_type": "code",
   "execution_count": 67,
   "id": "069181cc",
   "metadata": {
    "id": "069181cc"
   },
   "outputs": [
    {
     "ename": "TypeError",
     "evalue": "Only valid with DatetimeIndex, TimedeltaIndex or PeriodIndex, but got an instance of 'RangeIndex'",
     "output_type": "error",
     "traceback": [
      "\u001b[1;31m---------------------------------------------------------------------------\u001b[0m",
      "\u001b[1;31mTypeError\u001b[0m                                 Traceback (most recent call last)",
      "Cell \u001b[1;32mIn[67], line 1\u001b[0m\n\u001b[1;32m----> 1\u001b[0m weekly_stats \u001b[38;5;241m=\u001b[39m data\u001b[38;5;241m.\u001b[39mresample(\u001b[38;5;124m'\u001b[39m\u001b[38;5;124mW-MON\u001b[39m\u001b[38;5;124m'\u001b[39m, origin\u001b[38;5;241m=\u001b[39m\u001b[38;5;124m'\u001b[39m\u001b[38;5;124m1961-01-02\u001b[39m\u001b[38;5;124m'\u001b[39m)\u001b[38;5;241m.\u001b[39magg([\u001b[38;5;124m'\u001b[39m\u001b[38;5;124mmin\u001b[39m\u001b[38;5;124m'\u001b[39m, \u001b[38;5;124m'\u001b[39m\u001b[38;5;124mmax\u001b[39m\u001b[38;5;124m'\u001b[39m, \u001b[38;5;124m'\u001b[39m\u001b[38;5;124mmean\u001b[39m\u001b[38;5;124m'\u001b[39m, \u001b[38;5;124m'\u001b[39m\u001b[38;5;124mstd\u001b[39m\u001b[38;5;124m'\u001b[39m])\u001b[38;5;241m.\u001b[39miloc[:\u001b[38;5;241m52\u001b[39m]\n",
      "File \u001b[1;32m~\\anaconda3\\Lib\\site-packages\\pandas\\core\\generic.py:9771\u001b[0m, in \u001b[0;36mNDFrame.resample\u001b[1;34m(self, rule, axis, closed, label, convention, kind, on, level, origin, offset, group_keys)\u001b[0m\n\u001b[0;32m   9768\u001b[0m \u001b[38;5;28;01melse\u001b[39;00m:\n\u001b[0;32m   9769\u001b[0m     convention \u001b[38;5;241m=\u001b[39m \u001b[38;5;124m\"\u001b[39m\u001b[38;5;124mstart\u001b[39m\u001b[38;5;124m\"\u001b[39m\n\u001b[1;32m-> 9771\u001b[0m \u001b[38;5;28;01mreturn\u001b[39;00m get_resampler(\n\u001b[0;32m   9772\u001b[0m     cast(\u001b[38;5;124m\"\u001b[39m\u001b[38;5;124mSeries | DataFrame\u001b[39m\u001b[38;5;124m\"\u001b[39m, \u001b[38;5;28mself\u001b[39m),\n\u001b[0;32m   9773\u001b[0m     freq\u001b[38;5;241m=\u001b[39mrule,\n\u001b[0;32m   9774\u001b[0m     label\u001b[38;5;241m=\u001b[39mlabel,\n\u001b[0;32m   9775\u001b[0m     closed\u001b[38;5;241m=\u001b[39mclosed,\n\u001b[0;32m   9776\u001b[0m     axis\u001b[38;5;241m=\u001b[39maxis,\n\u001b[0;32m   9777\u001b[0m     kind\u001b[38;5;241m=\u001b[39mkind,\n\u001b[0;32m   9778\u001b[0m     convention\u001b[38;5;241m=\u001b[39mconvention,\n\u001b[0;32m   9779\u001b[0m     key\u001b[38;5;241m=\u001b[39mon,\n\u001b[0;32m   9780\u001b[0m     level\u001b[38;5;241m=\u001b[39mlevel,\n\u001b[0;32m   9781\u001b[0m     origin\u001b[38;5;241m=\u001b[39morigin,\n\u001b[0;32m   9782\u001b[0m     offset\u001b[38;5;241m=\u001b[39moffset,\n\u001b[0;32m   9783\u001b[0m     group_keys\u001b[38;5;241m=\u001b[39mgroup_keys,\n\u001b[0;32m   9784\u001b[0m )\n",
      "File \u001b[1;32m~\\anaconda3\\Lib\\site-packages\\pandas\\core\\resample.py:2050\u001b[0m, in \u001b[0;36mget_resampler\u001b[1;34m(obj, kind, **kwds)\u001b[0m\n\u001b[0;32m   2046\u001b[0m \u001b[38;5;250m\u001b[39m\u001b[38;5;124;03m\"\"\"\u001b[39;00m\n\u001b[0;32m   2047\u001b[0m \u001b[38;5;124;03mCreate a TimeGrouper and return our resampler.\u001b[39;00m\n\u001b[0;32m   2048\u001b[0m \u001b[38;5;124;03m\"\"\"\u001b[39;00m\n\u001b[0;32m   2049\u001b[0m tg \u001b[38;5;241m=\u001b[39m TimeGrouper(obj, \u001b[38;5;241m*\u001b[39m\u001b[38;5;241m*\u001b[39mkwds)  \u001b[38;5;66;03m# type: ignore[arg-type]\u001b[39;00m\n\u001b[1;32m-> 2050\u001b[0m \u001b[38;5;28;01mreturn\u001b[39;00m tg\u001b[38;5;241m.\u001b[39m_get_resampler(obj, kind\u001b[38;5;241m=\u001b[39mkind)\n",
      "File \u001b[1;32m~\\anaconda3\\Lib\\site-packages\\pandas\\core\\resample.py:2272\u001b[0m, in \u001b[0;36mTimeGrouper._get_resampler\u001b[1;34m(self, obj, kind)\u001b[0m\n\u001b[0;32m   2263\u001b[0m \u001b[38;5;28;01melif\u001b[39;00m \u001b[38;5;28misinstance\u001b[39m(ax, TimedeltaIndex):\n\u001b[0;32m   2264\u001b[0m     \u001b[38;5;28;01mreturn\u001b[39;00m TimedeltaIndexResampler(\n\u001b[0;32m   2265\u001b[0m         obj,\n\u001b[0;32m   2266\u001b[0m         timegrouper\u001b[38;5;241m=\u001b[39m\u001b[38;5;28mself\u001b[39m,\n\u001b[1;32m   (...)\u001b[0m\n\u001b[0;32m   2269\u001b[0m         gpr_index\u001b[38;5;241m=\u001b[39max,\n\u001b[0;32m   2270\u001b[0m     )\n\u001b[1;32m-> 2272\u001b[0m \u001b[38;5;28;01mraise\u001b[39;00m \u001b[38;5;167;01mTypeError\u001b[39;00m(\n\u001b[0;32m   2273\u001b[0m     \u001b[38;5;124m\"\u001b[39m\u001b[38;5;124mOnly valid with DatetimeIndex, \u001b[39m\u001b[38;5;124m\"\u001b[39m\n\u001b[0;32m   2274\u001b[0m     \u001b[38;5;124m\"\u001b[39m\u001b[38;5;124mTimedeltaIndex or PeriodIndex, \u001b[39m\u001b[38;5;124m\"\u001b[39m\n\u001b[0;32m   2275\u001b[0m     \u001b[38;5;124mf\u001b[39m\u001b[38;5;124m\"\u001b[39m\u001b[38;5;124mbut got an instance of \u001b[39m\u001b[38;5;124m'\u001b[39m\u001b[38;5;132;01m{\u001b[39;00m\u001b[38;5;28mtype\u001b[39m(ax)\u001b[38;5;241m.\u001b[39m\u001b[38;5;18m__name__\u001b[39m\u001b[38;5;132;01m}\u001b[39;00m\u001b[38;5;124m'\u001b[39m\u001b[38;5;124m\"\u001b[39m\n\u001b[0;32m   2276\u001b[0m )\n",
      "\u001b[1;31mTypeError\u001b[0m: Only valid with DatetimeIndex, TimedeltaIndex or PeriodIndex, but got an instance of 'RangeIndex'"
     ]
    }
   ],
   "source": [
    "weekly_stats = data.resample('W-MON', origin='1961-01-02').agg(['min', 'max', 'mean', 'std']).iloc[:52]"
   ]
  },
  {
   "cell_type": "code",
   "execution_count": null,
   "id": "dba3e649",
   "metadata": {
    "id": "dba3e649"
   },
   "outputs": [],
   "source": []
  }
 ],
 "metadata": {
  "colab": {
   "provenance": []
  },
  "kernelspec": {
   "display_name": "Python 3 (ipykernel)",
   "language": "python",
   "name": "python3"
  },
  "language_info": {
   "codemirror_mode": {
    "name": "ipython",
    "version": 3
   },
   "file_extension": ".py",
   "mimetype": "text/x-python",
   "name": "python",
   "nbconvert_exporter": "python",
   "pygments_lexer": "ipython3",
   "version": "3.12.4"
  }
 },
 "nbformat": 4,
 "nbformat_minor": 5
}
